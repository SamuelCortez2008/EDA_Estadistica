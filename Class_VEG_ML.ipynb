{
 "cells": [
  {
   "cell_type": "markdown",
   "metadata": {},
   "source": [
    "# Modelo de  Clasificación - VEGETACIÓN\n",
    "\n",
    "**Autor: Óscar Samuel Cortez Moreno**"
   ]
  },
  {
   "cell_type": "markdown",
   "metadata": {},
   "source": [
    "Se importan Librerías a utilizar"
   ]
  },
  {
   "cell_type": "code",
   "execution_count": 397,
   "metadata": {},
   "outputs": [],
   "source": [
    "# Tratamiento de datos\n",
    "import pandas as pd\n",
    "import numpy as np\n",
    "import math\n",
    "import geopandas as gpd\n",
    "\n",
    "# Modelos ML\n",
    "from sklearn.svm import SVC\n",
    "from sklearn.ensemble import RandomForestClassifier\n",
    "from sklearn.linear_model import LogisticRegression\n",
    "from sklearn.neighbors import KNeighborsClassifier\n",
    "from sklearn.model_selection import train_test_split\n",
    "\n",
    "from sklearn.metrics import confusion_matrix\n",
    "from sklearn.model_selection import cross_val_score\n",
    "from sklearn.model_selection import GridSearchCV\n",
    "from sklearn.metrics import classification_report\n",
    "from sklearn.pipeline import Pipeline, make_pipeline\n",
    "from sklearn.metrics import plot_confusion_matrix\n",
    "\n",
    "from sklearn.decomposition import PCA\n",
    "\n",
    "# Preprocesamiento\n",
    "from sklearn.preprocessing import OneHotEncoder, LabelEncoder, StandardScaler\n",
    "\n",
    "# Visualización\n",
    "import seaborn as sns\n",
    "import matplotlib.pyplot as plt\n",
    "import missingno as msno\n",
    "\n",
    "import os"
   ]
  },
  {
   "cell_type": "code",
   "execution_count": 169,
   "metadata": {},
   "outputs": [],
   "source": [
    "plt.style.use('ggplot')\n",
    "plt.rcParams['figure.figsize'] = (18,10)\n"
   ]
  },
  {
   "cell_type": "markdown",
   "metadata": {},
   "source": [
    "## Dataset - Datos Geoespaciales"
   ]
  },
  {
   "cell_type": "code",
   "execution_count": 8,
   "metadata": {},
   "outputs": [],
   "source": [
    "path = './CART-/PUNTOS_ENT/'\n",
    "list_files = os.listdir(path=path)"
   ]
  },
  {
   "cell_type": "markdown",
   "metadata": {},
   "source": [
    "Se extraen sólo archivos .shp"
   ]
  },
  {
   "cell_type": "code",
   "execution_count": 9,
   "metadata": {},
   "outputs": [
    {
     "data": {
      "text/plain": [
       "['Encinar.shp',\n",
       " 'Matorral_subtropical.shp',\n",
       " 'Matorral_xerofilo.shp',\n",
       " 'Mezquital.shp',\n",
       " 'Pastizal.shp',\n",
       " 'Pastizal_inducido.shp',\n",
       " 'Suelo_desnudo.shp',\n",
       " 'Vegetacion_arroyo.shp']"
      ]
     },
     "execution_count": 9,
     "metadata": {},
     "output_type": "execute_result"
    }
   ],
   "source": [
    "# Se seleccionan solo archivos .shp del dataset\n",
    "file_train = [file for file in list_files if (file.find('.shp') != -1 & file.find('.lock') == -1)]\n",
    "file_train"
   ]
  },
  {
   "cell_type": "code",
   "execution_count": 12,
   "metadata": {},
   "outputs": [
    {
     "data": {
      "text/plain": [
       "'./CART-/PUNTOS_ENT/Matorral_subtropical.shp'"
      ]
     },
     "execution_count": 12,
     "metadata": {},
     "output_type": "execute_result"
    }
   ],
   "source": [
    "path + file_train[1]"
   ]
  },
  {
   "cell_type": "code",
   "execution_count": 14,
   "metadata": {},
   "outputs": [],
   "source": [
    "#df_MATSUB = gpd.read_file(filename = path + file_train[0])"
   ]
  },
  {
   "cell_type": "code",
   "execution_count": 19,
   "metadata": {},
   "outputs": [
    {
     "name": "stdout",
     "output_type": "stream",
     "text": [
      "<class 'geopandas.geodataframe.GeoDataFrame'>\n",
      "RangeIndex: 256 entries, 0 to 255\n",
      "Data columns (total 8 columns):\n",
      " #   Column      Non-Null Count  Dtype   \n",
      "---  ------      --------------  -----   \n",
      " 0   OID_        256 non-null    int64   \n",
      " 1   Name        256 non-null    object  \n",
      " 2   FolderPath  256 non-null    object  \n",
      " 3   SymbolID    256 non-null    int64   \n",
      " 4   AltitudeMo  256 non-null    int64   \n",
      " 5   Snippet     0 non-null      object  \n",
      " 6   PopupInfo   219 non-null    object  \n",
      " 7   geometry    256 non-null    geometry\n",
      "dtypes: geometry(1), int64(3), object(4)\n",
      "memory usage: 16.1+ KB\n"
     ]
    }
   ],
   "source": [
    "df_MATSUB.info()"
   ]
  },
  {
   "cell_type": "code",
   "execution_count": 21,
   "metadata": {},
   "outputs": [
    {
     "data": {
      "text/plain": [
       "0      POINT Z (674235.570 3265062.250 0.000)\n",
       "1      POINT Z (674835.800 3264373.330 0.000)\n",
       "2      POINT Z (674869.400 3264748.470 0.000)\n",
       "3      POINT Z (676959.150 3264505.690 0.000)\n",
       "4      POINT Z (679903.840 3253715.410 0.000)\n",
       "                        ...                  \n",
       "251    POINT Z (688668.044 3251880.316 0.000)\n",
       "252    POINT Z (673607.250 3251807.579 0.000)\n",
       "253    POINT Z (673748.458 3251502.903 0.000)\n",
       "254    POINT Z (674904.687 3254624.500 0.000)\n",
       "255    POINT Z (675881.148 3257958.091 0.000)\n",
       "Name: geometry, Length: 256, dtype: geometry"
      ]
     },
     "execution_count": 21,
     "metadata": {},
     "output_type": "execute_result"
    }
   ],
   "source": [
    "df_MATSUB"
   ]
  },
  {
   "cell_type": "code",
   "execution_count": 27,
   "metadata": {},
   "outputs": [],
   "source": [
    "file_img = './CART-/STACKS/STACK2003_AE_F.img'\n",
    "\n",
    "fimg = open(file_img, 'rb')\n",
    "\n",
    "data = np.fromfile(fimg, np.dtype('>u2'))"
   ]
  },
  {
   "cell_type": "markdown",
   "metadata": {},
   "source": [
    "## Se Importa Dataset con Predictores y Categorías a Predecir"
   ]
  },
  {
   "cell_type": "code",
   "execution_count": 15,
   "metadata": {},
   "outputs": [
    {
     "data": {
      "text/html": [
       "<div>\n",
       "<style scoped>\n",
       "    .dataframe tbody tr th:only-of-type {\n",
       "        vertical-align: middle;\n",
       "    }\n",
       "\n",
       "    .dataframe tbody tr th {\n",
       "        vertical-align: top;\n",
       "    }\n",
       "\n",
       "    .dataframe thead th {\n",
       "        text-align: right;\n",
       "    }\n",
       "</style>\n",
       "<table border=\"1\" class=\"dataframe\">\n",
       "  <thead>\n",
       "    <tr style=\"text-align: right;\">\n",
       "      <th></th>\n",
       "      <th>Unnamed: 0</th>\n",
       "      <th>Layer_1</th>\n",
       "      <th>Layer_2</th>\n",
       "      <th>Layer_3</th>\n",
       "      <th>Layer_4</th>\n",
       "      <th>Layer_5</th>\n",
       "      <th>Layer_6</th>\n",
       "      <th>Layer_7</th>\n",
       "      <th>Layer_8</th>\n",
       "      <th>Layer_9</th>\n",
       "      <th>...</th>\n",
       "      <th>Layer_49</th>\n",
       "      <th>Layer_50</th>\n",
       "      <th>Layer_51</th>\n",
       "      <th>Layer_52</th>\n",
       "      <th>Layer_53</th>\n",
       "      <th>Layer_54</th>\n",
       "      <th>Layer_55</th>\n",
       "      <th>Layer_56</th>\n",
       "      <th>Layer_57</th>\n",
       "      <th>types</th>\n",
       "    </tr>\n",
       "    <tr>\n",
       "      <th>ID</th>\n",
       "      <th></th>\n",
       "      <th></th>\n",
       "      <th></th>\n",
       "      <th></th>\n",
       "      <th></th>\n",
       "      <th></th>\n",
       "      <th></th>\n",
       "      <th></th>\n",
       "      <th></th>\n",
       "      <th></th>\n",
       "      <th></th>\n",
       "      <th></th>\n",
       "      <th></th>\n",
       "      <th></th>\n",
       "      <th></th>\n",
       "      <th></th>\n",
       "      <th></th>\n",
       "      <th></th>\n",
       "      <th></th>\n",
       "      <th></th>\n",
       "      <th></th>\n",
       "    </tr>\n",
       "  </thead>\n",
       "  <tbody>\n",
       "    <tr>\n",
       "      <th>1</th>\n",
       "      <td>1</td>\n",
       "      <td>8647.0</td>\n",
       "      <td>9461.0</td>\n",
       "      <td>9606.0</td>\n",
       "      <td>15039.0</td>\n",
       "      <td>14098.0</td>\n",
       "      <td>11106.0</td>\n",
       "      <td>2642.0</td>\n",
       "      <td>951.0</td>\n",
       "      <td>385.0</td>\n",
       "      <td>...</td>\n",
       "      <td>-17.0</td>\n",
       "      <td>-70.0</td>\n",
       "      <td>-22.0</td>\n",
       "      <td>2208.0</td>\n",
       "      <td>1266.0</td>\n",
       "      <td>3311.0</td>\n",
       "      <td>1099.0</td>\n",
       "      <td>16.0</td>\n",
       "      <td>344.0</td>\n",
       "      <td>Encinar</td>\n",
       "    </tr>\n",
       "    <tr>\n",
       "      <th>2</th>\n",
       "      <td>2</td>\n",
       "      <td>8281.0</td>\n",
       "      <td>9168.0</td>\n",
       "      <td>8787.0</td>\n",
       "      <td>15454.0</td>\n",
       "      <td>13623.0</td>\n",
       "      <td>10430.0</td>\n",
       "      <td>2552.0</td>\n",
       "      <td>1004.0</td>\n",
       "      <td>310.0</td>\n",
       "      <td>...</td>\n",
       "      <td>-1.0</td>\n",
       "      <td>-52.0</td>\n",
       "      <td>-16.0</td>\n",
       "      <td>3430.0</td>\n",
       "      <td>1747.0</td>\n",
       "      <td>5144.0</td>\n",
       "      <td>1122.0</td>\n",
       "      <td>24.0</td>\n",
       "      <td>13.0</td>\n",
       "      <td>Encinar</td>\n",
       "    </tr>\n",
       "    <tr>\n",
       "      <th>3</th>\n",
       "      <td>3</td>\n",
       "      <td>8195.0</td>\n",
       "      <td>8629.0</td>\n",
       "      <td>8474.0</td>\n",
       "      <td>13472.0</td>\n",
       "      <td>11626.0</td>\n",
       "      <td>9483.0</td>\n",
       "      <td>2343.0</td>\n",
       "      <td>795.0</td>\n",
       "      <td>247.0</td>\n",
       "      <td>...</td>\n",
       "      <td>-6.0</td>\n",
       "      <td>-40.0</td>\n",
       "      <td>-9.0</td>\n",
       "      <td>2979.0</td>\n",
       "      <td>1284.0</td>\n",
       "      <td>4467.0</td>\n",
       "      <td>1061.0</td>\n",
       "      <td>29.0</td>\n",
       "      <td>328.0</td>\n",
       "      <td>Encinar</td>\n",
       "    </tr>\n",
       "    <tr>\n",
       "      <th>4</th>\n",
       "      <td>4</td>\n",
       "      <td>8762.0</td>\n",
       "      <td>9535.0</td>\n",
       "      <td>9433.0</td>\n",
       "      <td>15525.0</td>\n",
       "      <td>14989.0</td>\n",
       "      <td>11880.0</td>\n",
       "      <td>2712.0</td>\n",
       "      <td>1026.0</td>\n",
       "      <td>454.0</td>\n",
       "      <td>...</td>\n",
       "      <td>-11.0</td>\n",
       "      <td>-78.0</td>\n",
       "      <td>-20.0</td>\n",
       "      <td>2630.0</td>\n",
       "      <td>1427.0</td>\n",
       "      <td>3944.0</td>\n",
       "      <td>1079.0</td>\n",
       "      <td>26.0</td>\n",
       "      <td>12.0</td>\n",
       "      <td>Encinar</td>\n",
       "    </tr>\n",
       "    <tr>\n",
       "      <th>5</th>\n",
       "      <td>5</td>\n",
       "      <td>8958.0</td>\n",
       "      <td>9670.0</td>\n",
       "      <td>9772.0</td>\n",
       "      <td>14699.0</td>\n",
       "      <td>14428.0</td>\n",
       "      <td>11747.0</td>\n",
       "      <td>2692.0</td>\n",
       "      <td>921.0</td>\n",
       "      <td>448.0</td>\n",
       "      <td>...</td>\n",
       "      <td>-14.0</td>\n",
       "      <td>-79.0</td>\n",
       "      <td>-22.0</td>\n",
       "      <td>2373.0</td>\n",
       "      <td>1348.0</td>\n",
       "      <td>3559.0</td>\n",
       "      <td>1040.0</td>\n",
       "      <td>27.0</td>\n",
       "      <td>335.0</td>\n",
       "      <td>Encinar</td>\n",
       "    </tr>\n",
       "  </tbody>\n",
       "</table>\n",
       "<p>5 rows × 59 columns</p>\n",
       "</div>"
      ],
      "text/plain": [
       "    Unnamed: 0  Layer_1  Layer_2  Layer_3  Layer_4  Layer_5  Layer_6  Layer_7  \\\n",
       "ID                                                                              \n",
       "1            1   8647.0   9461.0   9606.0  15039.0  14098.0  11106.0   2642.0   \n",
       "2            2   8281.0   9168.0   8787.0  15454.0  13623.0  10430.0   2552.0   \n",
       "3            3   8195.0   8629.0   8474.0  13472.0  11626.0   9483.0   2343.0   \n",
       "4            4   8762.0   9535.0   9433.0  15525.0  14989.0  11880.0   2712.0   \n",
       "5            5   8958.0   9670.0   9772.0  14699.0  14428.0  11747.0   2692.0   \n",
       "\n",
       "    Layer_8  Layer_9  ...  Layer_49  Layer_50  Layer_51  Layer_52  Layer_53  \\\n",
       "ID                    ...                                                     \n",
       "1     951.0    385.0  ...     -17.0     -70.0     -22.0    2208.0    1266.0   \n",
       "2    1004.0    310.0  ...      -1.0     -52.0     -16.0    3430.0    1747.0   \n",
       "3     795.0    247.0  ...      -6.0     -40.0      -9.0    2979.0    1284.0   \n",
       "4    1026.0    454.0  ...     -11.0     -78.0     -20.0    2630.0    1427.0   \n",
       "5     921.0    448.0  ...     -14.0     -79.0     -22.0    2373.0    1348.0   \n",
       "\n",
       "    Layer_54  Layer_55  Layer_56  Layer_57    types  \n",
       "ID                                                   \n",
       "1     3311.0    1099.0      16.0     344.0  Encinar  \n",
       "2     5144.0    1122.0      24.0      13.0  Encinar  \n",
       "3     4467.0    1061.0      29.0     328.0  Encinar  \n",
       "4     3944.0    1079.0      26.0      12.0  Encinar  \n",
       "5     3559.0    1040.0      27.0     335.0  Encinar  \n",
       "\n",
       "[5 rows x 59 columns]"
      ]
     },
     "execution_count": 15,
     "metadata": {},
     "output_type": "execute_result"
    }
   ],
   "source": [
    "path_dataset = './rstudio-export/train_full.csv'\n",
    "Dataset_df = pd.read_csv(path_dataset, \n",
    "                         sep = ',',\n",
    "                         index_col = 1,\n",
    "                         encoding='utf-8')\n",
    "Dataset_df.head()"
   ]
  },
  {
   "cell_type": "markdown",
   "metadata": {},
   "source": [
    "Información Dataframe"
   ]
  },
  {
   "cell_type": "code",
   "execution_count": 16,
   "metadata": {},
   "outputs": [
    {
     "name": "stdout",
     "output_type": "stream",
     "text": [
      "<class 'pandas.core.frame.DataFrame'>\n",
      "Int64Index: 1849 entries, 1 to 55\n",
      "Data columns (total 59 columns):\n",
      " #   Column      Non-Null Count  Dtype  \n",
      "---  ------      --------------  -----  \n",
      " 0   Unnamed: 0  1849 non-null   int64  \n",
      " 1   Layer_1     1847 non-null   float64\n",
      " 2   Layer_2     1847 non-null   float64\n",
      " 3   Layer_3     1847 non-null   float64\n",
      " 4   Layer_4     1847 non-null   float64\n",
      " 5   Layer_5     1847 non-null   float64\n",
      " 6   Layer_6     1847 non-null   float64\n",
      " 7   Layer_7     1847 non-null   float64\n",
      " 8   Layer_8     1847 non-null   float64\n",
      " 9   Layer_9     1847 non-null   float64\n",
      " 10  Layer_10    1847 non-null   float64\n",
      " 11  Layer_11    1847 non-null   float64\n",
      " 12  Layer_12    1847 non-null   float64\n",
      " 13  Layer_13    1847 non-null   float64\n",
      " 14  Layer_14    1847 non-null   float64\n",
      " 15  Layer_15    1847 non-null   float64\n",
      " 16  Layer_16    1847 non-null   float64\n",
      " 17  Layer_17    1847 non-null   float64\n",
      " 18  Layer_18    1847 non-null   float64\n",
      " 19  Layer_19    1847 non-null   float64\n",
      " 20  Layer_20    1847 non-null   float64\n",
      " 21  Layer_21    1847 non-null   float64\n",
      " 22  Layer_22    1847 non-null   float64\n",
      " 23  Layer_23    1847 non-null   float64\n",
      " 24  Layer_24    1847 non-null   float64\n",
      " 25  Layer_25    1847 non-null   float64\n",
      " 26  Layer_26    1847 non-null   float64\n",
      " 27  Layer_27    1847 non-null   float64\n",
      " 28  Layer_28    1847 non-null   float64\n",
      " 29  Layer_29    1847 non-null   float64\n",
      " 30  Layer_30    1847 non-null   float64\n",
      " 31  Layer_31    1847 non-null   float64\n",
      " 32  Layer_32    1847 non-null   float64\n",
      " 33  Layer_33    1847 non-null   float64\n",
      " 34  Layer_34    1847 non-null   float64\n",
      " 35  Layer_35    1847 non-null   float64\n",
      " 36  Layer_36    1847 non-null   float64\n",
      " 37  Layer_37    1847 non-null   float64\n",
      " 38  Layer_38    1847 non-null   float64\n",
      " 39  Layer_39    1847 non-null   float64\n",
      " 40  Layer_40    1847 non-null   float64\n",
      " 41  Layer_41    1847 non-null   float64\n",
      " 42  Layer_42    1847 non-null   float64\n",
      " 43  Layer_43    1847 non-null   float64\n",
      " 44  Layer_44    1847 non-null   float64\n",
      " 45  Layer_45    1847 non-null   float64\n",
      " 46  Layer_46    1847 non-null   float64\n",
      " 47  Layer_47    1847 non-null   float64\n",
      " 48  Layer_48    1847 non-null   float64\n",
      " 49  Layer_49    1847 non-null   float64\n",
      " 50  Layer_50    1847 non-null   float64\n",
      " 51  Layer_51    1847 non-null   float64\n",
      " 52  Layer_52    1847 non-null   float64\n",
      " 53  Layer_53    1847 non-null   float64\n",
      " 54  Layer_54    1847 non-null   float64\n",
      " 55  Layer_55    1847 non-null   float64\n",
      " 56  Layer_56    1847 non-null   float64\n",
      " 57  Layer_57    1847 non-null   float64\n",
      " 58  types       1849 non-null   object \n",
      "dtypes: float64(57), int64(1), object(1)\n",
      "memory usage: 866.7+ KB\n"
     ]
    }
   ],
   "source": [
    "Dataset_df.info()"
   ]
  },
  {
   "cell_type": "markdown",
   "metadata": {},
   "source": [
    "Missing Values"
   ]
  },
  {
   "cell_type": "code",
   "execution_count": 17,
   "metadata": {},
   "outputs": [
    {
     "data": {
      "image/png": "[encoded data removed]",
      "text/plain": [
       "<Figure size 1800x720 with 2 Axes>"
      ]
     },
     "metadata": {},
     "output_type": "display_data"
    }
   ],
   "source": [
    "ax_null = msno.matrix(Dataset_df)\n",
    "plt.show()"
   ]
  },
  {
   "cell_type": "code",
   "execution_count": 18,
   "metadata": {},
   "outputs": [],
   "source": [
    "Dataset_df2 = Dataset_df.copy()"
   ]
  },
  {
   "cell_type": "markdown",
   "metadata": {},
   "source": [
    "Se eliminan renglones con datos nulos"
   ]
  },
  {
   "cell_type": "code",
   "execution_count": 19,
   "metadata": {},
   "outputs": [],
   "source": [
    "Dataset_df2.dropna(how = 'any', axis = 0, inplace = True)"
   ]
  },
  {
   "cell_type": "code",
   "execution_count": 22,
   "metadata": {},
   "outputs": [],
   "source": [
    "Dataset_df2.drop(columns='Unnamed: 0', inplace = True)"
   ]
  },
  {
   "cell_type": "markdown",
   "metadata": {},
   "source": [
    "Estadísticos Descriptivos"
   ]
  },
  {
   "cell_type": "code",
   "execution_count": 23,
   "metadata": {},
   "outputs": [
    {
     "data": {
      "text/html": [
       "<div>\n",
       "<style scoped>\n",
       "    .dataframe tbody tr th:only-of-type {\n",
       "        vertical-align: middle;\n",
       "    }\n",
       "\n",
       "    .dataframe tbody tr th {\n",
       "        vertical-align: top;\n",
       "    }\n",
       "\n",
       "    .dataframe thead th {\n",
       "        text-align: right;\n",
       "    }\n",
       "</style>\n",
       "<table border=\"1\" class=\"dataframe\">\n",
       "  <thead>\n",
       "    <tr style=\"text-align: right;\">\n",
       "      <th></th>\n",
       "      <th>Layer_1</th>\n",
       "      <th>Layer_2</th>\n",
       "      <th>Layer_3</th>\n",
       "      <th>Layer_4</th>\n",
       "      <th>Layer_5</th>\n",
       "      <th>Layer_6</th>\n",
       "      <th>Layer_7</th>\n",
       "      <th>Layer_8</th>\n",
       "      <th>Layer_9</th>\n",
       "      <th>Layer_10</th>\n",
       "      <th>...</th>\n",
       "      <th>Layer_48</th>\n",
       "      <th>Layer_49</th>\n",
       "      <th>Layer_50</th>\n",
       "      <th>Layer_51</th>\n",
       "      <th>Layer_52</th>\n",
       "      <th>Layer_53</th>\n",
       "      <th>Layer_54</th>\n",
       "      <th>Layer_55</th>\n",
       "      <th>Layer_56</th>\n",
       "      <th>Layer_57</th>\n",
       "    </tr>\n",
       "  </thead>\n",
       "  <tbody>\n",
       "    <tr>\n",
       "      <th>count</th>\n",
       "      <td>1847.000000</td>\n",
       "      <td>1847.000000</td>\n",
       "      <td>1847.000000</td>\n",
       "      <td>1847.000000</td>\n",
       "      <td>1847.000000</td>\n",
       "      <td>1847.000000</td>\n",
       "      <td>1847.000000</td>\n",
       "      <td>1847.000000</td>\n",
       "      <td>1847.000000</td>\n",
       "      <td>1847.000000</td>\n",
       "      <td>...</td>\n",
       "      <td>1847.000000</td>\n",
       "      <td>1847.000000</td>\n",
       "      <td>1847.000000</td>\n",
       "      <td>1847.000000</td>\n",
       "      <td>1847.000000</td>\n",
       "      <td>1847.000000</td>\n",
       "      <td>1847.000000</td>\n",
       "      <td>1847.000000</td>\n",
       "      <td>1847.000000</td>\n",
       "      <td>1847.000000</td>\n",
       "    </tr>\n",
       "    <tr>\n",
       "      <th>mean</th>\n",
       "      <td>8975.262588</td>\n",
       "      <td>10031.440173</td>\n",
       "      <td>10109.574445</td>\n",
       "      <td>16636.940444</td>\n",
       "      <td>15012.697347</td>\n",
       "      <td>11847.310774</td>\n",
       "      <td>2816.877098</td>\n",
       "      <td>1073.929616</td>\n",
       "      <td>387.832702</td>\n",
       "      <td>-0.035734</td>\n",
       "      <td>...</td>\n",
       "      <td>-133.152680</td>\n",
       "      <td>-11.131565</td>\n",
       "      <td>-76.943692</td>\n",
       "      <td>-23.001083</td>\n",
       "      <td>2515.342718</td>\n",
       "      <td>1478.937195</td>\n",
       "      <td>3772.653492</td>\n",
       "      <td>933.903086</td>\n",
       "      <td>16.838657</td>\n",
       "      <td>178.286410</td>\n",
       "    </tr>\n",
       "    <tr>\n",
       "      <th>std</th>\n",
       "      <td>734.339280</td>\n",
       "      <td>1031.606717</td>\n",
       "      <td>1460.616154</td>\n",
       "      <td>1463.609329</td>\n",
       "      <td>2480.033192</td>\n",
       "      <td>2080.393575</td>\n",
       "      <td>307.996457</td>\n",
       "      <td>142.233295</td>\n",
       "      <td>214.233919</td>\n",
       "      <td>32.615472</td>\n",
       "      <td>...</td>\n",
       "      <td>45.685313</td>\n",
       "      <td>7.370736</td>\n",
       "      <td>22.801562</td>\n",
       "      <td>6.595576</td>\n",
       "      <td>864.022891</td>\n",
       "      <td>481.422023</td>\n",
       "      <td>1295.783693</td>\n",
       "      <td>274.066405</td>\n",
       "      <td>12.151935</td>\n",
       "      <td>102.651815</td>\n",
       "    </tr>\n",
       "    <tr>\n",
       "      <th>min</th>\n",
       "      <td>7769.000000</td>\n",
       "      <td>8353.000000</td>\n",
       "      <td>7946.000000</td>\n",
       "      <td>11506.000000</td>\n",
       "      <td>7842.000000</td>\n",
       "      <td>7466.000000</td>\n",
       "      <td>2154.000000</td>\n",
       "      <td>436.000000</td>\n",
       "      <td>-157.000000</td>\n",
       "      <td>-258.000000</td>\n",
       "      <td>...</td>\n",
       "      <td>-321.000000</td>\n",
       "      <td>-49.000000</td>\n",
       "      <td>-156.000000</td>\n",
       "      <td>-57.000000</td>\n",
       "      <td>367.000000</td>\n",
       "      <td>219.000000</td>\n",
       "      <td>551.000000</td>\n",
       "      <td>337.000000</td>\n",
       "      <td>0.000000</td>\n",
       "      <td>-1.000000</td>\n",
       "    </tr>\n",
       "    <tr>\n",
       "      <th>25%</th>\n",
       "      <td>8463.500000</td>\n",
       "      <td>9332.000000</td>\n",
       "      <td>8947.500000</td>\n",
       "      <td>15669.500000</td>\n",
       "      <td>13308.000000</td>\n",
       "      <td>10280.000000</td>\n",
       "      <td>2609.000000</td>\n",
       "      <td>992.000000</td>\n",
       "      <td>221.000000</td>\n",
       "      <td>-10.000000</td>\n",
       "      <td>...</td>\n",
       "      <td>-163.000000</td>\n",
       "      <td>-15.000000</td>\n",
       "      <td>-91.000000</td>\n",
       "      <td>-26.000000</td>\n",
       "      <td>1932.000000</td>\n",
       "      <td>1200.000000</td>\n",
       "      <td>2898.000000</td>\n",
       "      <td>775.000000</td>\n",
       "      <td>6.000000</td>\n",
       "      <td>89.500000</td>\n",
       "    </tr>\n",
       "    <tr>\n",
       "      <th>50%</th>\n",
       "      <td>8772.000000</td>\n",
       "      <td>9753.000000</td>\n",
       "      <td>9692.000000</td>\n",
       "      <td>16521.000000</td>\n",
       "      <td>14424.000000</td>\n",
       "      <td>11345.000000</td>\n",
       "      <td>2734.000000</td>\n",
       "      <td>1073.000000</td>\n",
       "      <td>359.000000</td>\n",
       "      <td>7.000000</td>\n",
       "      <td>...</td>\n",
       "      <td>-129.000000</td>\n",
       "      <td>-10.000000</td>\n",
       "      <td>-73.000000</td>\n",
       "      <td>-22.000000</td>\n",
       "      <td>2378.000000</td>\n",
       "      <td>1368.000000</td>\n",
       "      <td>3567.000000</td>\n",
       "      <td>919.000000</td>\n",
       "      <td>16.000000</td>\n",
       "      <td>184.000000</td>\n",
       "    </tr>\n",
       "    <tr>\n",
       "      <th>75%</th>\n",
       "      <td>9337.500000</td>\n",
       "      <td>10608.500000</td>\n",
       "      <td>10918.500000</td>\n",
       "      <td>17525.500000</td>\n",
       "      <td>16301.500000</td>\n",
       "      <td>12958.500000</td>\n",
       "      <td>2960.000000</td>\n",
       "      <td>1157.000000</td>\n",
       "      <td>522.000000</td>\n",
       "      <td>19.000000</td>\n",
       "      <td>...</td>\n",
       "      <td>-100.500000</td>\n",
       "      <td>-6.000000</td>\n",
       "      <td>-59.500000</td>\n",
       "      <td>-19.000000</td>\n",
       "      <td>2871.000000</td>\n",
       "      <td>1616.000000</td>\n",
       "      <td>4306.000000</td>\n",
       "      <td>1099.500000</td>\n",
       "      <td>26.000000</td>\n",
       "      <td>257.500000</td>\n",
       "    </tr>\n",
       "    <tr>\n",
       "      <th>max</th>\n",
       "      <td>13428.000000</td>\n",
       "      <td>15799.000000</td>\n",
       "      <td>17110.000000</td>\n",
       "      <td>22729.000000</td>\n",
       "      <td>23596.000000</td>\n",
       "      <td>19815.000000</td>\n",
       "      <td>4112.000000</td>\n",
       "      <td>1623.000000</td>\n",
       "      <td>1129.000000</td>\n",
       "      <td>98.000000</td>\n",
       "      <td>...</td>\n",
       "      <td>17.000000</td>\n",
       "      <td>4.000000</td>\n",
       "      <td>-21.000000</td>\n",
       "      <td>-8.000000</td>\n",
       "      <td>6813.000000</td>\n",
       "      <td>5176.000000</td>\n",
       "      <td>10218.000000</td>\n",
       "      <td>1792.000000</td>\n",
       "      <td>65.000000</td>\n",
       "      <td>359.000000</td>\n",
       "    </tr>\n",
       "  </tbody>\n",
       "</table>\n",
       "<p>8 rows × 57 columns</p>\n",
       "</div>"
      ],
      "text/plain": [
       "            Layer_1       Layer_2       Layer_3       Layer_4       Layer_5  \\\n",
       "count   1847.000000   1847.000000   1847.000000   1847.000000   1847.000000   \n",
       "mean    8975.262588  10031.440173  10109.574445  16636.940444  15012.697347   \n",
       "std      734.339280   1031.606717   1460.616154   1463.609329   2480.033192   \n",
       "min     7769.000000   8353.000000   7946.000000  11506.000000   7842.000000   \n",
       "25%     8463.500000   9332.000000   8947.500000  15669.500000  13308.000000   \n",
       "50%     8772.000000   9753.000000   9692.000000  16521.000000  14424.000000   \n",
       "75%     9337.500000  10608.500000  10918.500000  17525.500000  16301.500000   \n",
       "max    13428.000000  15799.000000  17110.000000  22729.000000  23596.000000   \n",
       "\n",
       "            Layer_6      Layer_7      Layer_8      Layer_9     Layer_10  ...  \\\n",
       "count   1847.000000  1847.000000  1847.000000  1847.000000  1847.000000  ...   \n",
       "mean   11847.310774  2816.877098  1073.929616   387.832702    -0.035734  ...   \n",
       "std     2080.393575   307.996457   142.233295   214.233919    32.615472  ...   \n",
       "min     7466.000000  2154.000000   436.000000  -157.000000  -258.000000  ...   \n",
       "25%    10280.000000  2609.000000   992.000000   221.000000   -10.000000  ...   \n",
       "50%    11345.000000  2734.000000  1073.000000   359.000000     7.000000  ...   \n",
       "75%    12958.500000  2960.000000  1157.000000   522.000000    19.000000  ...   \n",
       "max    19815.000000  4112.000000  1623.000000  1129.000000    98.000000  ...   \n",
       "\n",
       "          Layer_48     Layer_49     Layer_50     Layer_51     Layer_52  \\\n",
       "count  1847.000000  1847.000000  1847.000000  1847.000000  1847.000000   \n",
       "mean   -133.152680   -11.131565   -76.943692   -23.001083  2515.342718   \n",
       "std      45.685313     7.370736    22.801562     6.595576   864.022891   \n",
       "min    -321.000000   -49.000000  -156.000000   -57.000000   367.000000   \n",
       "25%    -163.000000   -15.000000   -91.000000   -26.000000  1932.000000   \n",
       "50%    -129.000000   -10.000000   -73.000000   -22.000000  2378.000000   \n",
       "75%    -100.500000    -6.000000   -59.500000   -19.000000  2871.000000   \n",
       "max      17.000000     4.000000   -21.000000    -8.000000  6813.000000   \n",
       "\n",
       "          Layer_53      Layer_54     Layer_55     Layer_56     Layer_57  \n",
       "count  1847.000000   1847.000000  1847.000000  1847.000000  1847.000000  \n",
       "mean   1478.937195   3772.653492   933.903086    16.838657   178.286410  \n",
       "std     481.422023   1295.783693   274.066405    12.151935   102.651815  \n",
       "min     219.000000    551.000000   337.000000     0.000000    -1.000000  \n",
       "25%    1200.000000   2898.000000   775.000000     6.000000    89.500000  \n",
       "50%    1368.000000   3567.000000   919.000000    16.000000   184.000000  \n",
       "75%    1616.000000   4306.000000  1099.500000    26.000000   257.500000  \n",
       "max    5176.000000  10218.000000  1792.000000    65.000000   359.000000  \n",
       "\n",
       "[8 rows x 57 columns]"
      ]
     },
     "execution_count": 23,
     "metadata": {},
     "output_type": "execute_result"
    }
   ],
   "source": [
    "Dataset_df2.describe()"
   ]
  },
  {
   "cell_type": "code",
   "execution_count": 421,
   "metadata": {},
   "outputs": [
    {
     "data": {
      "image/png": "[encoded data removed]",
      "text/plain": [
       "<Figure size 1296x720 with 2 Axes>"
      ]
     },
     "metadata": {},
     "output_type": "display_data"
    }
   ],
   "source": [
    "data_corr = Dataset_df2.corr(method = 'pearson')\n",
    "ax_corr = sns.heatmap(data_corr, annot=  False)\n",
    "plt.show()"
   ]
  },
  {
   "cell_type": "markdown",
   "metadata": {},
   "source": [
    "Gráfico de barras - Cantidad de instancias por Clase"
   ]
  },
  {
   "cell_type": "code",
   "execution_count": 34,
   "metadata": {},
   "outputs": [
    {
     "data": {
      "image/png": "[encoded data removed]",
      "text/plain": [
       "<Figure size 1296x720 with 1 Axes>"
      ]
     },
     "metadata": {},
     "output_type": "display_data"
    }
   ],
   "source": [
    "fig_clas, ax_class = plt.subplots(nrows = 1, ncols = 1)\n",
    "ax_class.set_title('Cantidad de Instancias por Clases de Vegetación', fontsize = 16)\n",
    "Clases_count = Dataset_df2.types.value_counts(ascending=True)\n",
    "Clases_count.plot(kind = 'bar',\n",
    "                  xlabel = 'Categorías',\n",
    "                  ylabel = '# Observaciones',\n",
    "                  ax = ax_class)\n",
    "ax_class.set_xticklabels(Clases_count.index.values.tolist(), rotation = 45)\n",
    "plt.show()"
   ]
  },
  {
   "cell_type": "markdown",
   "metadata": {},
   "source": [
    "Clases"
   ]
  },
  {
   "cell_type": "code",
   "execution_count": 36,
   "metadata": {},
   "outputs": [
    {
     "name": "stdout",
     "output_type": "stream",
     "text": [
      "Clases a Predecir: ['Suelo_desnudo', 'Pastizal_inducido', 'Mezquital', 'Matorral_xerofilo', 'Matorral_subtropical', 'Vegetacion_arroyo', 'Pastizal', 'Encinar']\n"
     ]
    }
   ],
   "source": [
    "print(f'Clases a Predecir: {Clases_count.index.values.tolist()}')"
   ]
  },
  {
   "cell_type": "markdown",
   "metadata": {},
   "source": [
    "Boxplots de los predictores por Clase"
   ]
  },
  {
   "cell_type": "code",
   "execution_count": 53,
   "metadata": {},
   "outputs": [
    {
     "data": {
      "image/png": "[encoded data removed]",
      "text/plain": [
       "<Figure size 1296x720 with 1 Axes>"
      ]
     },
     "metadata": {},
     "output_type": "display_data"
    }
   ],
   "source": [
    "ax_boxplot = sns.boxplot(data = Dataset_df2.drop(columns = 'types'))\n",
    "ax_boxplot.set_xticklabels(Dataset_df2.drop(columns = 'types').columns, rotation = 45)\n",
    "ax_boxplot.set_title('Gráficos de Caja - Predictores', fontsize = 18)\n",
    "ax_boxplot.set_ylabel('Layers_values')\n",
    "ax_boxplot.set_xlabel('Predictores')\n",
    "plt.tight_layout()\n",
    "plt.show()"
   ]
  },
  {
   "cell_type": "markdown",
   "metadata": {},
   "source": [
    "## Modelo ML\n",
    "\n",
    "**Se Realizará el entrenamiento de los siguientes Modelos de Aprendizaje Automático:**\n",
    "1. RandomForest.\n",
    "2. KNN\n",
    "3. Máquinas de Vector Soporte (SVM)."
   ]
  },
  {
   "cell_type": "markdown",
   "metadata": {},
   "source": [
    "X - Predictores"
   ]
  },
  {
   "cell_type": "code",
   "execution_count": 54,
   "metadata": {},
   "outputs": [],
   "source": [
    "X = Dataset_df2.drop(columns = 'types').values"
   ]
  },
  {
   "cell_type": "markdown",
   "metadata": {},
   "source": [
    "Y - Categorías\n",
    "* Preprocesamiento: Label Encoder"
   ]
  },
  {
   "cell_type": "code",
   "execution_count": 56,
   "metadata": {},
   "outputs": [],
   "source": [
    "CAT = Dataset_df2.types.values"
   ]
  },
  {
   "cell_type": "markdown",
   "metadata": {},
   "source": [
    "Se define la instancia Label Encoder"
   ]
  },
  {
   "cell_type": "code",
   "execution_count": 61,
   "metadata": {},
   "outputs": [
    {
     "data": {
      "text/plain": [
       "array([0, 0, 0, ..., 6, 6, 6])"
      ]
     },
     "execution_count": 61,
     "metadata": {},
     "output_type": "execute_result"
    }
   ],
   "source": [
    "le = LabelEncoder()\n",
    "le.fit_transform(CAT)"
   ]
  },
  {
   "cell_type": "code",
   "execution_count": 67,
   "metadata": {},
   "outputs": [],
   "source": [
    "y = le.transform(CAT)"
   ]
  },
  {
   "cell_type": "code",
   "execution_count": 66,
   "metadata": {},
   "outputs": [
    {
     "name": "stdout",
     "output_type": "stream",
     "text": [
      "Clases:['Encinar' 'Matorral_subtropical' 'Matorral_xerofilo' 'Mezquital'\n",
      " 'Pastizal' 'Pastizal_inducido' 'Suelo_desnudo' 'Vegetacion_arroyo']\n",
      "Clases transforms:[0 0 0 ... 6 6 6]\n"
     ]
    }
   ],
   "source": [
    "print(f'Clases:{le.classes_}')\n",
    "print(f'Clases transforms:{le.transform(CAT)}')"
   ]
  },
  {
   "cell_type": "markdown",
   "metadata": {},
   "source": [
    "**Split Train - Test: (0.8 - 0.2)**"
   ]
  },
  {
   "cell_type": "code",
   "execution_count": 352,
   "metadata": {},
   "outputs": [],
   "source": [
    "X_train, X_test, y_train, y_test= train_test_split(X, y, test_size = 0.20)"
   ]
  },
  {
   "cell_type": "markdown",
   "metadata": {},
   "source": [
    "### Modelo de Aprendizaje: Support Vector Machine"
   ]
  },
  {
   "cell_type": "code",
   "execution_count": 353,
   "metadata": {},
   "outputs": [],
   "source": [
    "# Instancias de GridSearchCV object\n",
    "parameters = {'C':[0.1,1,10], 'gamma':[0.00001, 0.0001, 0.001, 0.01, 0.1]}\n",
    "searcher_svm = GridSearchCV(SVC(kernel='rbf'), parameters, cv = 10)"
   ]
  },
  {
   "cell_type": "code",
   "execution_count": 354,
   "metadata": {},
   "outputs": [],
   "source": [
    "# Instancias pipeline\n",
    "steps_svm = [('scaler',StandardScaler()),\n",
    "              ('gridsearch',searcher_svm)]\n",
    "\n",
    "pipeline = Pipeline(steps_svm)"
   ]
  },
  {
   "cell_type": "markdown",
   "metadata": {},
   "source": [
    "### Aplicando Reducción de dimensionalidad"
   ]
  },
  {
   "cell_type": "code",
   "execution_count": 408,
   "metadata": {},
   "outputs": [],
   "source": [
    "# Metodos: preprocesamiento e instancia modelo SVM\n",
    "steps_svm = [('scaler', StandardScaler()),\n",
    "             ('pca', PCA()),\n",
    "            ('SVM', SVC(kernel='rbf'))]\n",
    "pipeline_svm = Pipeline(steps_svm)\n",
    "\n",
    "# Specify the hyperparameter space\n",
    "parameters_svm = {'SVM__C':[0.1,1,10], 'SVM__gamma':[0.00001, 0.0001, 0.001, 0.01, 0.1], 'pca__n_components':[10,20,57]}\n",
    "# Instantiate the GridSearchCV object: cv\n",
    "cv_svm = GridSearchCV(pipeline_svm, parameters_svm, cv = 5)"
   ]
  },
  {
   "cell_type": "code",
   "execution_count": 409,
   "metadata": {},
   "outputs": [
    {
     "data": {
      "text/plain": [
       "GridSearchCV(cv=5,\n",
       "             estimator=Pipeline(steps=[('scaler', StandardScaler()),\n",
       "                                       ('pca', PCA()), ('SVM', SVC())]),\n",
       "             param_grid={'SVM__C': [0.1, 1, 10],\n",
       "                         'SVM__gamma': [1e-05, 0.0001, 0.001, 0.01, 0.1],\n",
       "                         'pca__n_components': [10, 20, 57]})"
      ]
     },
     "execution_count": 409,
     "metadata": {},
     "output_type": "execute_result"
    }
   ],
   "source": [
    "cv_svm.fit(X_train, y_train)"
   ]
  },
  {
   "cell_type": "code",
   "execution_count": 410,
   "metadata": {},
   "outputs": [
    {
     "name": "stdout",
     "output_type": "stream",
     "text": [
      "Best CV params {'SVM__C': 10, 'SVM__gamma': 0.01, 'pca__n_components': 20}\n",
      "Best CV accuray 0.7576225377920294\n"
     ]
    }
   ],
   "source": [
    "print('Best CV params', cv_svm.best_params_)\n",
    "print('Best CV accuray', cv_svm.best_score_)"
   ]
  },
  {
   "cell_type": "code",
   "execution_count": 411,
   "metadata": {},
   "outputs": [
    {
     "name": "stdout",
     "output_type": "stream",
     "text": [
      "Accuracy: 0.8054054054054054\n"
     ]
    }
   ],
   "source": [
    "y_predsvm = cv_svm.predict(X_test)\n",
    "print('Accuracy: {}'.format(cv_svm.score(X_test, y_test)))"
   ]
  },
  {
   "cell_type": "markdown",
   "metadata": {},
   "source": [
    "PCA al Conjunto de Datos - Predictores"
   ]
  },
  {
   "cell_type": "code",
   "execution_count": 413,
   "metadata": {},
   "outputs": [],
   "source": [
    "pca_ = PCA(n_components=57)\n",
    "pca__transf = pca_.fit_transform(X)"
   ]
  },
  {
   "cell_type": "code",
   "execution_count": 415,
   "metadata": {},
   "outputs": [
    {
     "data": {
      "text/plain": [
       "(1847, 57)"
      ]
     },
     "execution_count": 415,
     "metadata": {},
     "output_type": "execute_result"
    }
   ],
   "source": [
    "X.shape"
   ]
  },
  {
   "cell_type": "code",
   "execution_count": 427,
   "metadata": {},
   "outputs": [
    {
     "data": {
      "text/plain": [
       "0.8962934040888495"
      ]
     },
     "execution_count": 427,
     "metadata": {},
     "output_type": "execute_result"
    }
   ],
   "source": [
    "pca_.explained_variance_ratio_[:5].sum()"
   ]
  },
  {
   "cell_type": "code",
   "execution_count": 424,
   "metadata": {},
   "outputs": [
    {
     "data": {
      "text/html": [
       "<div>\n",
       "<style scoped>\n",
       "    .dataframe tbody tr th:only-of-type {\n",
       "        vertical-align: middle;\n",
       "    }\n",
       "\n",
       "    .dataframe tbody tr th {\n",
       "        vertical-align: top;\n",
       "    }\n",
       "\n",
       "    .dataframe thead th {\n",
       "        text-align: right;\n",
       "    }\n",
       "</style>\n",
       "<table border=\"1\" class=\"dataframe\">\n",
       "  <thead>\n",
       "    <tr style=\"text-align: right;\">\n",
       "      <th></th>\n",
       "      <th>Varianza_acumulada</th>\n",
       "    </tr>\n",
       "  </thead>\n",
       "  <tbody>\n",
       "    <tr>\n",
       "      <th>0</th>\n",
       "      <td>0.621420</td>\n",
       "    </tr>\n",
       "    <tr>\n",
       "      <th>1</th>\n",
       "      <td>0.740954</td>\n",
       "    </tr>\n",
       "    <tr>\n",
       "      <th>2</th>\n",
       "      <td>0.820742</td>\n",
       "    </tr>\n",
       "    <tr>\n",
       "      <th>3</th>\n",
       "      <td>0.862267</td>\n",
       "    </tr>\n",
       "    <tr>\n",
       "      <th>4</th>\n",
       "      <td>0.896293</td>\n",
       "    </tr>\n",
       "  </tbody>\n",
       "</table>\n",
       "</div>"
      ],
      "text/plain": [
       "   Varianza_acumulada\n",
       "0            0.621420\n",
       "1            0.740954\n",
       "2            0.820742\n",
       "3            0.862267\n",
       "4            0.896293"
      ]
     },
     "execution_count": 424,
     "metadata": {},
     "output_type": "execute_result"
    }
   ],
   "source": [
    "var_cum = pd.DataFrame(pca_.explained_variance_ratio_.cumsum(), columns=['Varianza_acumulada'])\n",
    "var_cum.head()"
   ]
  },
  {
   "cell_type": "code",
   "execution_count": 426,
   "metadata": {},
   "outputs": [
    {
     "data": {
      "image/png": "[encoded data removed]",
      "text/plain": [
       "<Figure size 1296x720 with 1 Axes>"
      ]
     },
     "metadata": {},
     "output_type": "display_data"
    }
   ],
   "source": [
    "ax_varcum = var_cum.plot(kind = 'line',\n",
    "                         marker = 'o', \n",
    "                         xlabel = 'CP',\n",
    "                         ylabel = 'Varianza acumulada',\n",
    "                         title = 'Varianza Acumulada')\n",
    "plt.show()"
   ]
  },
  {
   "cell_type": "code",
   "execution_count": 417,
   "metadata": {},
   "outputs": [
    {
     "name": "stdout",
     "output_type": "stream",
     "text": [
      "----------------------------------------------------\n",
      "Porcentaje de varianza explicada por cada componente\n",
      "----------------------------------------------------\n",
      "[6.21420185e-01 1.19533518e-01 7.97878100e-02 4.15259549e-02\n",
      " 3.40259365e-02 2.03099597e-02 1.85895968e-02 1.47297725e-02\n",
      " 1.23919860e-02 1.20924126e-02 7.32437823e-03 6.91590272e-03\n",
      " 5.09243068e-03 3.94100606e-03 1.16352271e-03 6.43752257e-04\n",
      " 2.20259737e-04 9.67079538e-05 7.04158358e-05 6.03887368e-05\n",
      " 1.84007693e-05 1.44172337e-05 1.04129069e-05 9.04022361e-06\n",
      " 4.13778029e-06 2.86236844e-06 2.06816209e-06 1.95429622e-06\n",
      " 6.51346372e-07 1.07824060e-07 4.78344234e-08 1.82403505e-10\n",
      " 1.56438706e-10 1.48702278e-10 1.38134853e-10 1.34880659e-10\n",
      " 1.29769623e-10 1.13465306e-10 1.04557630e-10 9.98312442e-11\n",
      " 9.63334233e-11 9.38797985e-11 9.13378997e-11 8.90543331e-11\n",
      " 8.73876663e-11 8.55352303e-11 8.29153760e-11 8.24046634e-11\n",
      " 7.91348544e-11 7.86639836e-11 7.65562861e-11 7.60742068e-11\n",
      " 7.48504764e-11 7.36406952e-11 7.26403218e-11 7.14895059e-11\n",
      " 6.71986187e-11]\n"
     ]
    },
    {
     "data": {
      "text/plain": [
       "Text(0.5, 0, 'Componente principal')"
      ]
     },
     "execution_count": 417,
     "metadata": {},
     "output_type": "execute_result"
    },
    {
     "data": {
      "image/png": "[encoded data removed]",
      "text/plain": [
       "<Figure size 1440x720 with 1 Axes>"
      ]
     },
     "metadata": {},
     "output_type": "display_data"
    }
   ],
   "source": [
    "# Porcentaje de varianza explicada por cada componente\n",
    "# ==============================================================================\n",
    "print('----------------------------------------------------')\n",
    "print('Porcentaje de varianza explicada por cada componente')\n",
    "print('----------------------------------------------------')\n",
    "print(pca_.explained_variance_ratio_)\n",
    "\n",
    "fig, ax = plt.subplots(nrows=1, ncols=1, figsize=(20, 10))\n",
    "ax.bar(\n",
    "    x      = np.arange(pca_.n_components_) + 1,\n",
    "    height = pca_.explained_variance_ratio_\n",
    ")\n",
    "\n",
    "for x, y in zip(np.arange(len(X_train)) + 1, pca_.explained_variance_ratio_):\n",
    "    label = round(y, 2)\n",
    "    ax.annotate(\n",
    "        label,\n",
    "        (x,y),\n",
    "        textcoords=\"offset points\",\n",
    "        xytext=(0,10),\n",
    "        ha='center'\n",
    "    )\n",
    "\n",
    "ax.set_xticks(np.arange(pca_.n_components_) + 1)\n",
    "ax.set_ylim(0, 0.8)\n",
    "ax.set_title('Porcentaje de varianza explicada por cada componente')\n",
    "ax.set_xlabel('Componente principal')"
   ]
  },
  {
   "cell_type": "markdown",
   "metadata": {},
   "source": [
    "### Ajuste Modelo SVM \n",
    "* se cambia la secuencia"
   ]
  },
  {
   "cell_type": "code",
   "execution_count": 293,
   "metadata": {},
   "outputs": [],
   "source": [
    "# Metodos: preprocesamiento e instancia modelo SVM\n",
    "steps_svm = [('scaler', StandardScaler()),\n",
    "            ('SVM', SVC(kernel='rbf'))]\n",
    "pipeline_svm = Pipeline(steps_svm)\n",
    "\n",
    "# Specify the hyperparameter space\n",
    "parameters_svm = {'SVM__C':[0.1,1,10], 'SVM__gamma':[0.00001, 0.0001, 0.001, 0.01, 0.1]}\n",
    "# Instantiate the GridSearchCV object: cv\n",
    "cv_svm = GridSearchCV(pipeline_svm, parameters_svm, cv = 5)"
   ]
  },
  {
   "cell_type": "markdown",
   "metadata": {},
   "source": [
    "se ajusta el modelo a los datos de entrenamiento"
   ]
  },
  {
   "cell_type": "code",
   "execution_count": 294,
   "metadata": {},
   "outputs": [
    {
     "data": {
      "text/plain": [
       "GridSearchCV(cv=5,\n",
       "             estimator=Pipeline(steps=[('scaler', StandardScaler()),\n",
       "                                       ('SVM', SVC())]),\n",
       "             param_grid={'SVM__C': [0.1, 1, 10],\n",
       "                         'SVM__gamma': [1e-05, 0.0001, 0.001, 0.01, 0.1]})"
      ]
     },
     "execution_count": 294,
     "metadata": {},
     "output_type": "execute_result"
    }
   ],
   "source": [
    "cv_svm.fit(X_train, y_train)"
   ]
  },
  {
   "cell_type": "code",
   "execution_count": 295,
   "metadata": {},
   "outputs": [
    {
     "name": "stdout",
     "output_type": "stream",
     "text": [
      "Best CV params {'SVM__C': 10, 'SVM__gamma': 0.01}\n",
      "Best CV accuray 0.763039395327531\n"
     ]
    }
   ],
   "source": [
    "print('Best CV params', cv_svm.best_params_)\n",
    "print('Best CV accuray', cv_svm.best_score_)"
   ]
  },
  {
   "cell_type": "code",
   "execution_count": 296,
   "metadata": {},
   "outputs": [],
   "source": [
    "y_predsvm = cv_svm.predict(X_test)"
   ]
  },
  {
   "cell_type": "code",
   "execution_count": 298,
   "metadata": {},
   "outputs": [
    {
     "name": "stdout",
     "output_type": "stream",
     "text": [
      "Accuracy: 0.8162162162162162\n"
     ]
    }
   ],
   "source": [
    "print('Accuracy: {}'.format(cv_svm.score(X_test, y_test)))"
   ]
  },
  {
   "cell_type": "markdown",
   "metadata": {},
   "source": [
    "### Ajustar Modelo: método .fit()"
   ]
  },
  {
   "cell_type": "code",
   "execution_count": 355,
   "metadata": {},
   "outputs": [
    {
     "data": {
      "text/plain": [
       "Pipeline(steps=[('scaler', StandardScaler()),\n",
       "                ('gridsearch',\n",
       "                 GridSearchCV(cv=10, estimator=SVC(),\n",
       "                              param_grid={'C': [0.1, 1, 10],\n",
       "                                          'gamma': [1e-05, 0.0001, 0.001, 0.01,\n",
       "                                                    0.1]}))])"
      ]
     },
     "execution_count": 355,
     "metadata": {},
     "output_type": "execute_result"
    }
   ],
   "source": [
    "pipeline.fit(X_train, y_train)"
   ]
  },
  {
   "cell_type": "markdown",
   "metadata": {},
   "source": [
    "Reporte de los mejores parametros y su puntuación"
   ]
  },
  {
   "cell_type": "code",
   "execution_count": 356,
   "metadata": {},
   "outputs": [
    {
     "name": "stdout",
     "output_type": "stream",
     "text": [
      "Best CV params {'C': 10, 'gamma': 0.01}\n",
      "Best CV accuray 0.7684500827357971\n"
     ]
    }
   ],
   "source": [
    "print('Best CV params', searcher_svm.best_params_)\n",
    "print('Best CV accuray', searcher_svm.best_score_)"
   ]
  },
  {
   "cell_type": "markdown",
   "metadata": {},
   "source": [
    "Accuracy Conjunto de prueba"
   ]
  },
  {
   "cell_type": "code",
   "execution_count": 357,
   "metadata": {},
   "outputs": [],
   "source": [
    "y_pred = pipeline.predict(X_test)"
   ]
  },
  {
   "cell_type": "markdown",
   "metadata": {},
   "source": [
    "Classification Report"
   ]
  },
  {
   "cell_type": "markdown",
   "metadata": {},
   "source": [
    "Train"
   ]
  },
  {
   "cell_type": "code",
   "execution_count": 358,
   "metadata": {},
   "outputs": [
    {
     "name": "stdout",
     "output_type": "stream",
     "text": [
      "Clasffication Report Train:               precision    recall  f1-score   support\n",
      "\n",
      "           0       0.92      0.95      0.93       216\n",
      "           1       0.87      0.94      0.91       198\n",
      "           2       0.91      0.86      0.88       201\n",
      "           3       0.93      0.84      0.88       204\n",
      "           4       0.97      0.89      0.93       210\n",
      "           5       0.81      0.91      0.86       195\n",
      "           6       1.00      1.00      1.00        44\n",
      "           7       0.98      0.97      0.97       209\n",
      "\n",
      "    accuracy                           0.91      1477\n",
      "   macro avg       0.92      0.92      0.92      1477\n",
      "weighted avg       0.92      0.91      0.91      1477\n",
      "\n"
     ]
    }
   ],
   "source": [
    "print(f'Clasffication Report Train: {classification_report(y_train, pipeline.predict(X_train))}')"
   ]
  },
  {
   "cell_type": "markdown",
   "metadata": {},
   "source": [
    "Test"
   ]
  },
  {
   "cell_type": "code",
   "execution_count": 359,
   "metadata": {},
   "outputs": [
    {
     "name": "stdout",
     "output_type": "stream",
     "text": [
      "Clasffication Report Test:               precision    recall  f1-score   support\n",
      "\n",
      "           0       0.73      0.88      0.80        50\n",
      "           1       0.86      0.93      0.89        58\n",
      "           2       0.84      0.71      0.77        52\n",
      "           3       0.76      0.67      0.71        48\n",
      "           4       0.88      0.84      0.86        50\n",
      "           5       0.73      0.80      0.77        55\n",
      "           6       1.00      0.78      0.88         9\n",
      "           7       0.91      0.88      0.89        48\n",
      "\n",
      "    accuracy                           0.82       370\n",
      "   macro avg       0.84      0.81      0.82       370\n",
      "weighted avg       0.82      0.82      0.82       370\n",
      "\n"
     ]
    }
   ],
   "source": [
    "print(f'Clasffication Report Test: {classification_report(y_test, y_pred)}')"
   ]
  },
  {
   "cell_type": "code",
   "execution_count": 335,
   "metadata": {},
   "outputs": [
    {
     "data": {
      "text/html": [
       "<div>\n",
       "<style scoped>\n",
       "    .dataframe tbody tr th:only-of-type {\n",
       "        vertical-align: middle;\n",
       "    }\n",
       "\n",
       "    .dataframe tbody tr th {\n",
       "        vertical-align: top;\n",
       "    }\n",
       "\n",
       "    .dataframe thead th {\n",
       "        text-align: right;\n",
       "    }\n",
       "</style>\n",
       "<table border=\"1\" class=\"dataframe\">\n",
       "  <thead>\n",
       "    <tr style=\"text-align: right;\">\n",
       "      <th></th>\n",
       "      <th>types</th>\n",
       "      <th>CAT_LE</th>\n",
       "    </tr>\n",
       "  </thead>\n",
       "  <tbody>\n",
       "    <tr>\n",
       "      <th>0</th>\n",
       "      <td>Encinar</td>\n",
       "      <td>0</td>\n",
       "    </tr>\n",
       "    <tr>\n",
       "      <th>1</th>\n",
       "      <td>Matorral_subtropical</td>\n",
       "      <td>1</td>\n",
       "    </tr>\n",
       "    <tr>\n",
       "      <th>2</th>\n",
       "      <td>Matorral_xerofilo</td>\n",
       "      <td>2</td>\n",
       "    </tr>\n",
       "    <tr>\n",
       "      <th>3</th>\n",
       "      <td>Mezquital</td>\n",
       "      <td>3</td>\n",
       "    </tr>\n",
       "    <tr>\n",
       "      <th>4</th>\n",
       "      <td>Pastizal</td>\n",
       "      <td>4</td>\n",
       "    </tr>\n",
       "    <tr>\n",
       "      <th>5</th>\n",
       "      <td>Pastizal_inducido</td>\n",
       "      <td>5</td>\n",
       "    </tr>\n",
       "    <tr>\n",
       "      <th>6</th>\n",
       "      <td>Suelo_desnudo</td>\n",
       "      <td>6</td>\n",
       "    </tr>\n",
       "    <tr>\n",
       "      <th>7</th>\n",
       "      <td>Vegetacion_arroyo</td>\n",
       "      <td>7</td>\n",
       "    </tr>\n",
       "  </tbody>\n",
       "</table>\n",
       "</div>"
      ],
      "text/plain": [
       "                  types  CAT_LE\n",
       "0               Encinar       0\n",
       "1  Matorral_subtropical       1\n",
       "2     Matorral_xerofilo       2\n",
       "3             Mezquital       3\n",
       "4              Pastizal       4\n",
       "5     Pastizal_inducido       5\n",
       "6         Suelo_desnudo       6\n",
       "7     Vegetacion_arroyo       7"
      ]
     },
     "execution_count": 335,
     "metadata": {},
     "output_type": "execute_result"
    }
   ],
   "source": [
    "CAT_LE = pd.DataFrame(data = {\n",
    "    'types':Dataset_df2.types.values,\n",
    "    'CAT_LE':y\n",
    "    })\n",
    "\n",
    "CAT_types = CAT_LE.drop_duplicates('types').sort_values(by= 'CAT_LE').reset_index(drop = True)\n",
    "CAT_types"
   ]
  },
  {
   "cell_type": "code",
   "execution_count": 360,
   "metadata": {},
   "outputs": [
    {
     "data": {
      "image/png": "[encoded data removed]",
      "text/plain": [
       "<Figure size 1296x720 with 2 Axes>"
      ]
     },
     "metadata": {},
     "output_type": "display_data"
    }
   ],
   "source": [
    "plot_confusion_matrix(pipeline,X_test,y_test, \n",
    "                      include_values = True, \n",
    "                      cmap = 'viridis',)\n",
    "plt.show()"
   ]
  },
  {
   "cell_type": "code",
   "execution_count": 361,
   "metadata": {},
   "outputs": [
    {
     "name": "stdout",
     "output_type": "stream",
     "text": [
      "Precisión Cojunto Test con los mejores Hyperparameters (SVM): 0.8162162162162162\n"
     ]
    }
   ],
   "source": [
    "print(f'Precisión Cojunto Test con los mejores Hyperparameters (SVM): {pipeline.score(X_test,y_test)}')"
   ]
  },
  {
   "cell_type": "markdown",
   "metadata": {},
   "source": [
    "Todo el set de datos"
   ]
  },
  {
   "cell_type": "code",
   "execution_count": 362,
   "metadata": {},
   "outputs": [
    {
     "name": "stdout",
     "output_type": "stream",
     "text": [
      "Precisión Cojunto de datos con los mejores Hyperparameters (SVM): 0.8933405522468868\n"
     ]
    }
   ],
   "source": [
    "print(f'Precisión Cojunto de datos con los mejores Hyperparameters (SVM): {pipeline.score(X,y)}')"
   ]
  },
  {
   "cell_type": "code",
   "execution_count": 351,
   "metadata": {},
   "outputs": [
    {
     "data": {
      "image/png": "[encoded data removed]",
      "text/plain": [
       "<Figure size 1296x720 with 2 Axes>"
      ]
     },
     "metadata": {},
     "output_type": "display_data"
    }
   ],
   "source": [
    "plot_confusion_matrix(pipeline,X_train,y_train, \n",
    "                      include_values = True, \n",
    "                      cmap = 'viridis',)\n",
    "plt.show()"
   ]
  },
  {
   "cell_type": "markdown",
   "metadata": {},
   "source": [
    "### Modelo de Aprendizaje: Random Forest"
   ]
  },
  {
   "cell_type": "code",
   "execution_count": 365,
   "metadata": {},
   "outputs": [],
   "source": [
    "# Instancias de GridSearchCV object\n",
    "parameters_RF = {'max_depth':[10,20,40],#[20,40,60,80,100],\n",
    "                 'max_features':['auto', 'sqrt'],\n",
    "                 'min_samples_leaf': [2,4,10],#[1,2,4,10],\n",
    "                 'min_samples_split':[2,5,10],#[2,5,10,20],\n",
    "                 'n_estimators':[20,50,100,200]}#[600,800,1000,1200,1800,2000]}\n",
    "searcher_RF = GridSearchCV(RandomForestClassifier(), parameters_RF, cv = 10)"
   ]
  },
  {
   "cell_type": "code",
   "execution_count": 366,
   "metadata": {},
   "outputs": [],
   "source": [
    "# Instancias pipeline\n",
    "steps_RF = [('gridsearch',searcher_RF)]\n",
    "\n",
    "pipeline_RF = Pipeline(steps_RF)"
   ]
  },
  {
   "cell_type": "markdown",
   "metadata": {},
   "source": [
    "Ajustar Modelo: método .fit()"
   ]
  },
  {
   "cell_type": "code",
   "execution_count": 368,
   "metadata": {},
   "outputs": [
    {
     "data": {
      "text/plain": [
       "GridSearchCV(cv=10, estimator=RandomForestClassifier(),\n",
       "             param_grid={'max_depth': [10, 20, 40],\n",
       "                         'max_features': ['auto', 'sqrt'],\n",
       "                         'min_samples_leaf': [2, 4, 10],\n",
       "                         'min_samples_split': [2, 5, 10],\n",
       "                         'n_estimators': [20, 50, 100, 200]})"
      ]
     },
     "execution_count": 368,
     "metadata": {},
     "output_type": "execute_result"
    }
   ],
   "source": [
    "searcher_RF.fit(X_train, y_train)"
   ]
  },
  {
   "cell_type": "markdown",
   "metadata": {},
   "source": [
    "Reporte de los mejores parametros y su puntuación"
   ]
  },
  {
   "cell_type": "code",
   "execution_count": 369,
   "metadata": {},
   "outputs": [
    {
     "name": "stdout",
     "output_type": "stream",
     "text": [
      "Best CV params {'max_depth': 20, 'max_features': 'sqrt', 'min_samples_leaf': 2, 'min_samples_split': 2, 'n_estimators': 100}\n",
      "Best CV accuray 0.7867576760433904\n"
     ]
    }
   ],
   "source": [
    "print('Best CV params', searcher_RF.best_params_)\n",
    "print('Best CV accuray', searcher_RF.best_score_)"
   ]
  },
  {
   "cell_type": "markdown",
   "metadata": {},
   "source": [
    "Accuracy Conjunto de prueba"
   ]
  },
  {
   "cell_type": "code",
   "execution_count": 370,
   "metadata": {},
   "outputs": [],
   "source": [
    "y_predRF = searcher_RF.predict(X_test)"
   ]
  },
  {
   "cell_type": "markdown",
   "metadata": {},
   "source": [
    "Classification Report"
   ]
  },
  {
   "cell_type": "markdown",
   "metadata": {},
   "source": [
    "Test"
   ]
  },
  {
   "cell_type": "code",
   "execution_count": 371,
   "metadata": {},
   "outputs": [
    {
     "name": "stdout",
     "output_type": "stream",
     "text": [
      "Clasffication Report Test RF:               precision    recall  f1-score   support\n",
      "\n",
      "           0       0.75      0.84      0.79        50\n",
      "           1       0.75      0.83      0.79        58\n",
      "           2       0.78      0.69      0.73        52\n",
      "           3       0.69      0.73      0.71        48\n",
      "           4       0.84      0.76      0.80        50\n",
      "           5       0.70      0.78      0.74        55\n",
      "           6       1.00      0.78      0.88         9\n",
      "           7       1.00      0.83      0.91        48\n",
      "\n",
      "    accuracy                           0.78       370\n",
      "   macro avg       0.81      0.78      0.79       370\n",
      "weighted avg       0.79      0.78      0.78       370\n",
      "\n"
     ]
    }
   ],
   "source": [
    "print(f'Clasffication Report Test RF: {classification_report(y_test,y_predRF)}')"
   ]
  },
  {
   "cell_type": "code",
   "execution_count": 372,
   "metadata": {},
   "outputs": [
    {
     "name": "stdout",
     "output_type": "stream",
     "text": [
      "Precisión Cojunto Test con los mejores Hyperparameters (RF): 0.7810810810810811\n"
     ]
    }
   ],
   "source": [
    "print(f'Precisión Cojunto Test con los mejores Hyperparameters (RF): {searcher_RF.score(X_test,y_test)}')"
   ]
  },
  {
   "cell_type": "markdown",
   "metadata": {},
   "source": [
    "### Modelo de Aprendizaje: KNN"
   ]
  },
  {
   "cell_type": "code",
   "execution_count": 278,
   "metadata": {},
   "outputs": [],
   "source": [
    "# Instancias pipeline\n",
    "steps_knn = [('scaler',StandardScaler()),\n",
    "              ('knn',KNeighborsClassifier())]\n",
    "\n",
    "pipeline_knn = Pipeline(steps_knn)"
   ]
  },
  {
   "cell_type": "code",
   "execution_count": 284,
   "metadata": {},
   "outputs": [
    {
     "data": {
      "text/plain": [
       "GridSearchCV(cv=10,\n",
       "             estimator=Pipeline(steps=[('scaler', StandardScaler()),\n",
       "                                       ('knn', KNeighborsClassifier())]),\n",
       "             param_grid={'knn__n_neighbors': array([ 1,  2,  3,  4,  5,  6,  7,  8,  9, 10, 11, 12, 13, 14, 15, 16, 17,\n",
       "       18, 19, 20, 21, 22, 23, 24, 25, 26, 27, 28, 29, 30, 31, 32, 33, 34,\n",
       "       35, 36, 37, 38, 39, 40, 41, 42, 43, 44, 45, 46, 47, 48, 49])})"
      ]
     },
     "execution_count": 284,
     "metadata": {},
     "output_type": "execute_result"
    }
   ],
   "source": [
    "# Instancias de GridSearchCV object\n",
    "parameters_knn = {'knn__n_neighbors': np.arange(1,50)}\n",
    "cv_knn = GridSearchCV(pipeline_knn, parameters_knn, cv = 10)\n",
    "cv_knn.fit(X_train, y_train)"
   ]
  },
  {
   "cell_type": "markdown",
   "metadata": {},
   "source": [
    "Reporte de los mejores parametros y su puntuación"
   ]
  },
  {
   "cell_type": "code",
   "execution_count": 285,
   "metadata": {},
   "outputs": [
    {
     "name": "stdout",
     "output_type": "stream",
     "text": [
      "Best CV params {'knn__n_neighbors': 8}\n",
      "Best CV accuray 0.6926457069314214\n"
     ]
    }
   ],
   "source": [
    "print('Best CV params', cv_knn.best_params_)\n",
    "print('Best CV accuray', cv_knn.best_score_)"
   ]
  },
  {
   "cell_type": "markdown",
   "metadata": {},
   "source": [
    "Train"
   ]
  },
  {
   "cell_type": "code",
   "execution_count": 286,
   "metadata": {},
   "outputs": [
    {
     "data": {
      "text/plain": [
       "0.7623561272850372"
      ]
     },
     "execution_count": 286,
     "metadata": {},
     "output_type": "execute_result"
    }
   ],
   "source": [
    "cv_knn.score(X_train, y_train)"
   ]
  },
  {
   "cell_type": "markdown",
   "metadata": {},
   "source": [
    "Test"
   ]
  },
  {
   "cell_type": "code",
   "execution_count": 287,
   "metadata": {},
   "outputs": [
    {
     "data": {
      "text/plain": [
       "0.7297297297297297"
      ]
     },
     "execution_count": 287,
     "metadata": {},
     "output_type": "execute_result"
    }
   ],
   "source": [
    "cv_knn.score(X_test, y_test)"
   ]
  }
 ],
 "metadata": {
  "interpreter": {
   "hash": "e891d19a8da2a88c7640f990a1d5179c2819390a418fae5188640ee68ceb9d9f"
  },
  "kernelspec": {
   "display_name": "Python 3.7.8 ('ML_ECNSCientific')",
   "language": "python",
   "name": "python3"
  },
  "language_info": {
   "codemirror_mode": {
    "name": "ipython",
    "version": 3
   },
   "file_extension": ".py",
   "mimetype": "text/x-python",
   "name": "python",
   "nbconvert_exporter": "python",
   "pygments_lexer": "ipython3",
   "version": "3.7.8"
  },
  "orig_nbformat": 4
 },
 "nbformat": 4,
 "nbformat_minor": 2
}
